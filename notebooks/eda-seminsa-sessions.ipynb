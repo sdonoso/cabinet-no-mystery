{
 "cells": [
  {
   "cell_type": "code",
   "execution_count": 1,
   "metadata": {},
   "outputs": [
    {
     "name": "stdout",
     "output_type": "stream",
     "text": [
      "/home/sdonoso/projects/cabinet-no-mistery\n"
     ]
    }
   ],
   "source": [
    "%load_ext autoreload\n",
    "%autoreload 2\n",
    "%cd .."
   ]
  },
  {
   "cell_type": "code",
   "execution_count": 4,
   "metadata": {},
   "outputs": [],
   "source": [
    "import json\n",
    "from src.schemas.session_schema import Session\n",
    "data_path = \"data/raw/2023-09-09/seminsa_sessions.json\"\n",
    "\n",
    "with open(data_path, 'r') as file:\n",
    "    data = json.load(file)"
   ]
  },
  {
   "cell_type": "code",
   "execution_count": 6,
   "metadata": {},
   "outputs": [
    {
     "ename": "ValidationError",
     "evalue": "1 validation error for Session\ndoc -> removed -> 0 -> epc\n  field required (type=value_error.missing)",
     "output_type": "error",
     "traceback": [
      "\u001b[0;31m---------------------------------------------------------------------------\u001b[0m",
      "\u001b[0;31mValidationError\u001b[0m                           Traceback (most recent call last)",
      "\u001b[1;32m/home/sdonoso/projects/cabinet-no-mistery/notebooks/eda-seminsa-sessions.ipynb Cell 3\u001b[0m line \u001b[0;36m1\n\u001b[0;32m----> <a href='vscode-notebook-cell:/home/sdonoso/projects/cabinet-no-mistery/notebooks/eda-seminsa-sessions.ipynb#W2sZmlsZQ%3D%3D?line=0'>1</a>\u001b[0m sessions \u001b[39m=\u001b[39m [Session(\u001b[39m*\u001b[39m\u001b[39m*\u001b[39msession) \u001b[39mfor\u001b[39;00m session \u001b[39min\u001b[39;00m data[\u001b[39m\"\u001b[39m\u001b[39mrows\u001b[39m\u001b[39m\"\u001b[39m]]\n",
      "\u001b[1;32m/home/sdonoso/projects/cabinet-no-mistery/notebooks/eda-seminsa-sessions.ipynb Cell 3\u001b[0m line \u001b[0;36m1\n\u001b[0;32m----> <a href='vscode-notebook-cell:/home/sdonoso/projects/cabinet-no-mistery/notebooks/eda-seminsa-sessions.ipynb#W2sZmlsZQ%3D%3D?line=0'>1</a>\u001b[0m sessions \u001b[39m=\u001b[39m [Session(\u001b[39m*\u001b[39;49m\u001b[39m*\u001b[39;49msession) \u001b[39mfor\u001b[39;00m session \u001b[39min\u001b[39;00m data[\u001b[39m\"\u001b[39m\u001b[39mrows\u001b[39m\u001b[39m\"\u001b[39m]]\n",
      "File \u001b[0;32m~/anaconda3/envs/bitua/lib/python3.10/site-packages/pydantic/main.py:341\u001b[0m, in \u001b[0;36mpydantic.main.BaseModel.__init__\u001b[0;34m()\u001b[0m\n",
      "\u001b[0;31mValidationError\u001b[0m: 1 validation error for Session\ndoc -> removed -> 0 -> epc\n  field required (type=value_error.missing)"
     ]
    }
   ],
   "source": [
    "sessions = [Session(**session) for session in data[\"rows\"]]\n"
   ]
  },
  {
   "cell_type": "code",
   "execution_count": null,
   "metadata": {},
   "outputs": [],
   "source": []
  }
 ],
 "metadata": {
  "kernelspec": {
   "display_name": "bitua",
   "language": "python",
   "name": "python3"
  },
  "language_info": {
   "codemirror_mode": {
    "name": "ipython",
    "version": 3
   },
   "file_extension": ".py",
   "mimetype": "text/x-python",
   "name": "python",
   "nbconvert_exporter": "python",
   "pygments_lexer": "ipython3",
   "version": "3.10.12"
  },
  "orig_nbformat": 4
 },
 "nbformat": 4,
 "nbformat_minor": 2
}
