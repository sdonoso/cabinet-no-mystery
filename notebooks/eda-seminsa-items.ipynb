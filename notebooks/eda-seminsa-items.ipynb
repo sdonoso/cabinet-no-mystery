{
 "cells": [
  {
   "cell_type": "code",
   "execution_count": 2,
   "metadata": {},
   "outputs": [
    {
     "name": "stdout",
     "output_type": "stream",
     "text": [
      "/home/sdonoso/projects/cabinet-no-mistery\n"
     ]
    }
   ],
   "source": [
    "%load_ext autoreload\n",
    "%autoreload 2\n",
    "%cd .."
   ]
  },
  {
   "cell_type": "code",
   "execution_count": 36,
   "metadata": {},
   "outputs": [],
   "source": [
    "import json\n",
    "from src.schemas.item_schema import Item\n",
    "data_path = \"data/raw/2023-09-09/seminsa_items.json\"\n",
    "\n",
    "with open(data_path, 'r') as file:\n",
    "    data = json.load(file)"
   ]
  },
  {
   "cell_type": "markdown",
   "metadata": {},
   "source": [
    "not read the last item"
   ]
  },
  {
   "cell_type": "code",
   "execution_count": 38,
   "metadata": {},
   "outputs": [],
   "source": [
    "items = [Item(**item) for item in data[\"rows\"][:-1]]"
   ]
  },
  {
   "cell_type": "code",
   "execution_count": 41,
   "metadata": {},
   "outputs": [
    {
     "data": {
      "text/html": [
       "<div>\n",
       "<style scoped>\n",
       "    .dataframe tbody tr th:only-of-type {\n",
       "        vertical-align: middle;\n",
       "    }\n",
       "\n",
       "    .dataframe tbody tr th {\n",
       "        vertical-align: top;\n",
       "    }\n",
       "\n",
       "    .dataframe thead th {\n",
       "        text-align: right;\n",
       "    }\n",
       "</style>\n",
       "<table border=\"1\" class=\"dataframe\">\n",
       "  <thead>\n",
       "    <tr style=\"text-align: right;\">\n",
       "      <th></th>\n",
       "      <th>id</th>\n",
       "      <th>key</th>\n",
       "      <th>value</th>\n",
       "      <th>doc</th>\n",
       "    </tr>\n",
       "  </thead>\n",
       "  <tbody>\n",
       "    <tr>\n",
       "      <th>0</th>\n",
       "      <td>0005000462BD000000004F89</td>\n",
       "      <td>0005000462BD000000004F89</td>\n",
       "      <td>{'rev': '3-e021446e46bad28441dd5b6efeeb8b25'}</td>\n",
       "      <td>{'_id': '0005000462BD000000004F89', '_rev': '3...</td>\n",
       "    </tr>\n",
       "    <tr>\n",
       "      <th>1</th>\n",
       "      <td>0008000462DE000000002D87</td>\n",
       "      <td>0008000462DE000000002D87</td>\n",
       "      <td>{'rev': '13-88b515b4c5a89cde30f70bc31a58da25'}</td>\n",
       "      <td>{'_id': '0008000462DE000000002D87', '_rev': '1...</td>\n",
       "    </tr>\n",
       "    <tr>\n",
       "      <th>2</th>\n",
       "      <td>0008000462DE000000002E86</td>\n",
       "      <td>0008000462DE000000002E86</td>\n",
       "      <td>{'rev': '11-a10efe12fb4b407bda0127ea22f4552f'}</td>\n",
       "      <td>{'_id': '0008000462DE000000002E86', '_rev': '1...</td>\n",
       "    </tr>\n",
       "    <tr>\n",
       "      <th>3</th>\n",
       "      <td>0008000462DE000000003084</td>\n",
       "      <td>0008000462DE000000003084</td>\n",
       "      <td>{'rev': '20-c207b91044cba7a4321a970af085d385'}</td>\n",
       "      <td>{'_id': '0008000462DE000000003084', '_rev': '2...</td>\n",
       "    </tr>\n",
       "    <tr>\n",
       "      <th>4</th>\n",
       "      <td>0008000462DE000000003183</td>\n",
       "      <td>0008000462DE000000003183</td>\n",
       "      <td>{'rev': '15-c30bc8eabc33ef7d68ac9ef60555babe'}</td>\n",
       "      <td>{'_id': '0008000462DE000000003183', '_rev': '1...</td>\n",
       "    </tr>\n",
       "    <tr>\n",
       "      <th>...</th>\n",
       "      <td>...</td>\n",
       "      <td>...</td>\n",
       "      <td>...</td>\n",
       "      <td>...</td>\n",
       "    </tr>\n",
       "    <tr>\n",
       "      <th>1706</th>\n",
       "      <td>B1DD000363E600000007CC53</td>\n",
       "      <td>B1DD000363E600000007CC53</td>\n",
       "      <td>{'rev': '11-332aaf96986d7e387b6c6f90d2f012fd'}</td>\n",
       "      <td>{'_id': 'B1DD000363E600000007CC53', '_rev': '1...</td>\n",
       "    </tr>\n",
       "    <tr>\n",
       "      <th>1707</th>\n",
       "      <td>B1DD000363E600000007CD52</td>\n",
       "      <td>B1DD000363E600000007CD52</td>\n",
       "      <td>{'rev': '8-4b5a3ebc480dc9e360b86aead694e693'}</td>\n",
       "      <td>{'_id': 'B1DD000363E600000007CD52', '_rev': '8...</td>\n",
       "    </tr>\n",
       "    <tr>\n",
       "      <th>1708</th>\n",
       "      <td>B1DD000363E600000007CE51</td>\n",
       "      <td>B1DD000363E600000007CE51</td>\n",
       "      <td>{'rev': '4-1481eef4bdd4e0b3fd0d3ca4bca8e6f0'}</td>\n",
       "      <td>{'_id': 'B1DD000363E600000007CE51', '_rev': '4...</td>\n",
       "    </tr>\n",
       "    <tr>\n",
       "      <th>1709</th>\n",
       "      <td>B1DD000363E600000007CF50</td>\n",
       "      <td>B1DD000363E600000007CF50</td>\n",
       "      <td>{'rev': '3-13922105deb3fa47775d21bcb8555e2f'}</td>\n",
       "      <td>{'_id': 'B1DD000363E600000007CF50', '_rev': '3...</td>\n",
       "    </tr>\n",
       "    <tr>\n",
       "      <th>1710</th>\n",
       "      <td>B1DD000363E600000007D04F</td>\n",
       "      <td>B1DD000363E600000007D04F</td>\n",
       "      <td>{'rev': '4-d1ff9427353747ce35ec8f3e0cf3bcf6'}</td>\n",
       "      <td>{'_id': 'B1DD000363E600000007D04F', '_rev': '4...</td>\n",
       "    </tr>\n",
       "  </tbody>\n",
       "</table>\n",
       "<p>1711 rows × 4 columns</p>\n",
       "</div>"
      ],
      "text/plain": [
       "                            id                       key  \\\n",
       "0     0005000462BD000000004F89  0005000462BD000000004F89   \n",
       "1     0008000462DE000000002D87  0008000462DE000000002D87   \n",
       "2     0008000462DE000000002E86  0008000462DE000000002E86   \n",
       "3     0008000462DE000000003084  0008000462DE000000003084   \n",
       "4     0008000462DE000000003183  0008000462DE000000003183   \n",
       "...                        ...                       ...   \n",
       "1706  B1DD000363E600000007CC53  B1DD000363E600000007CC53   \n",
       "1707  B1DD000363E600000007CD52  B1DD000363E600000007CD52   \n",
       "1708  B1DD000363E600000007CE51  B1DD000363E600000007CE51   \n",
       "1709  B1DD000363E600000007CF50  B1DD000363E600000007CF50   \n",
       "1710  B1DD000363E600000007D04F  B1DD000363E600000007D04F   \n",
       "\n",
       "                                               value  \\\n",
       "0      {'rev': '3-e021446e46bad28441dd5b6efeeb8b25'}   \n",
       "1     {'rev': '13-88b515b4c5a89cde30f70bc31a58da25'}   \n",
       "2     {'rev': '11-a10efe12fb4b407bda0127ea22f4552f'}   \n",
       "3     {'rev': '20-c207b91044cba7a4321a970af085d385'}   \n",
       "4     {'rev': '15-c30bc8eabc33ef7d68ac9ef60555babe'}   \n",
       "...                                              ...   \n",
       "1706  {'rev': '11-332aaf96986d7e387b6c6f90d2f012fd'}   \n",
       "1707   {'rev': '8-4b5a3ebc480dc9e360b86aead694e693'}   \n",
       "1708   {'rev': '4-1481eef4bdd4e0b3fd0d3ca4bca8e6f0'}   \n",
       "1709   {'rev': '3-13922105deb3fa47775d21bcb8555e2f'}   \n",
       "1710   {'rev': '4-d1ff9427353747ce35ec8f3e0cf3bcf6'}   \n",
       "\n",
       "                                                    doc  \n",
       "0     {'_id': '0005000462BD000000004F89', '_rev': '3...  \n",
       "1     {'_id': '0008000462DE000000002D87', '_rev': '1...  \n",
       "2     {'_id': '0008000462DE000000002E86', '_rev': '1...  \n",
       "3     {'_id': '0008000462DE000000003084', '_rev': '2...  \n",
       "4     {'_id': '0008000462DE000000003183', '_rev': '1...  \n",
       "...                                                 ...  \n",
       "1706  {'_id': 'B1DD000363E600000007CC53', '_rev': '1...  \n",
       "1707  {'_id': 'B1DD000363E600000007CD52', '_rev': '8...  \n",
       "1708  {'_id': 'B1DD000363E600000007CE51', '_rev': '4...  \n",
       "1709  {'_id': 'B1DD000363E600000007CF50', '_rev': '3...  \n",
       "1710  {'_id': 'B1DD000363E600000007D04F', '_rev': '4...  \n",
       "\n",
       "[1711 rows x 4 columns]"
      ]
     },
     "execution_count": 41,
     "metadata": {},
     "output_type": "execute_result"
    }
   ],
   "source": [
    "import pandas as pd\n",
    "df = pd.DataFrame(data[\"rows\"][:-1])\n",
    "df"
   ]
  },
  {
   "cell_type": "code",
   "execution_count": null,
   "metadata": {},
   "outputs": [],
   "source": []
  }
 ],
 "metadata": {
  "kernelspec": {
   "display_name": "bitua",
   "language": "python",
   "name": "python3"
  },
  "language_info": {
   "codemirror_mode": {
    "name": "ipython",
    "version": 3
   },
   "file_extension": ".py",
   "mimetype": "text/x-python",
   "name": "python",
   "nbconvert_exporter": "python",
   "pygments_lexer": "ipython3",
   "version": "3.10.12"
  },
  "orig_nbformat": 4
 },
 "nbformat": 4,
 "nbformat_minor": 2
}
