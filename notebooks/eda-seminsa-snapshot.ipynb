{
 "cells": [
  {
   "cell_type": "code",
   "execution_count": 1,
   "metadata": {},
   "outputs": [
    {
     "name": "stdout",
     "output_type": "stream",
     "text": [
      "/home/sdonoso/projects/cabinet-no-mistery\n"
     ]
    }
   ],
   "source": [
    "%load_ext autoreload\n",
    "%autoreload 2\n",
    "%cd .."
   ]
  },
  {
   "cell_type": "code",
   "execution_count": 5,
   "metadata": {},
   "outputs": [],
   "source": [
    "import json\n",
    "from src.schemas.snapshot_schema import Snapshot\n",
    "data_path = \"data/raw/2023-09-09/seminsa_snapshots.json\"\n",
    "\n",
    "with open(data_path, 'r') as file:\n",
    "    data = json.load(file)"
   ]
  },
  {
   "cell_type": "code",
   "execution_count": 6,
   "metadata": {},
   "outputs": [],
   "source": [
    "snapshots = [Snapshot(**snap) for snap in data[\"rows\"]]"
   ]
  },
  {
   "cell_type": "markdown",
   "metadata": {},
   "source": [
    "calculate delta between snapshots"
   ]
  },
  {
   "cell_type": "code",
   "execution_count": 36,
   "metadata": {},
   "outputs": [],
   "source": [
    "deltas = [(snapshots[i+1].id-snap.id).total_seconds() for i,snap in enumerate(snapshots[:-1])]"
   ]
  },
  {
   "cell_type": "code",
   "execution_count": 37,
   "metadata": {},
   "outputs": [
    {
     "name": "stdout",
     "output_type": "stream",
     "text": [
      "Minimum: 27.022\n",
      "Maximum: 1850440.225\n",
      "Mean (Average): 2099.4166934042705\n",
      "Median: 1800.0\n"
     ]
    }
   ],
   "source": [
    "import statistics\n",
    "minimum = min(deltas)\n",
    "maximum = max(deltas)\n",
    "\n",
    "# Calculate the mean (average)\n",
    "mean = sum(deltas) / len(deltas)\n",
    "\n",
    "# Calculate the median\n",
    "median = statistics.median(deltas)\n",
    "\n",
    "# Print the results\n",
    "print(f\"Minimum: {minimum}\")\n",
    "print(f\"Maximum: {maximum}\")\n",
    "print(f\"Mean (Average): {mean}\")\n",
    "print(f\"Median: {median}\")"
   ]
  },
  {
   "cell_type": "code",
   "execution_count": 39,
   "metadata": {},
   "outputs": [
    {
     "name": "stdout",
     "output_type": "stream",
     "text": [
      "5 smallest items: [27.022, 36.6, 39.905, 42.187, 50.386]\n",
      "5 largest items: [53420.63, 61032.839, 352420.591, 673049.087, 1850440.225]\n"
     ]
    }
   ],
   "source": [
    "sorted_deltas =sorted(deltas)\n",
    "print(f\"5 smallest items: {sorted_deltas[:5]}\")\n",
    "print(f\"5 largest items: {sorted_deltas[-5:]}\")"
   ]
  },
  {
   "cell_type": "markdown",
   "metadata": {},
   "source": [
    "check that id is equal to timestamp"
   ]
  },
  {
   "cell_type": "code",
   "execution_count": 48,
   "metadata": {},
   "outputs": [],
   "source": [
    "check_time = [snap.id.replace(microsecond=0) == snap.doc.timestamp.replace(microsecond=0) for snap in snapshots]"
   ]
  },
  {
   "cell_type": "code",
   "execution_count": 49,
   "metadata": {},
   "outputs": [
    {
     "data": {
      "text/plain": [
       "True"
      ]
     },
     "execution_count": 49,
     "metadata": {},
     "output_type": "execute_result"
    }
   ],
   "source": [
    "all(check_time)"
   ]
  },
  {
   "cell_type": "code",
   "execution_count": 46,
   "metadata": {},
   "outputs": [
    {
     "data": {
      "text/plain": [
       "{'id': datetime.datetime(2023, 1, 5, 23, 43, 46, 331000, tzinfo=datetime.timezone.utc),\n",
       " 'key': datetime.datetime(2023, 1, 5, 23, 43, 46, 331000, tzinfo=datetime.timezone.utc),\n",
       " 'value': {'rev': '1-19297ffc2478f20e1aa940efa59a3e8b'},\n",
       " 'doc': {'container': 'bitua001',\n",
       "  'timestamp': datetime.datetime(2023, 1, 5, 23, 43, 46, 332000, tzinfo=datetime.timezone.utc),\n",
       "  'current_stock': []}}"
      ]
     },
     "execution_count": 46,
     "metadata": {},
     "output_type": "execute_result"
    }
   ],
   "source": [
    "snapshots[check_time.index(False)].dict()"
   ]
  },
  {
   "cell_type": "code",
   "execution_count": null,
   "metadata": {},
   "outputs": [],
   "source": []
  }
 ],
 "metadata": {
  "kernelspec": {
   "display_name": "bitua",
   "language": "python",
   "name": "python3"
  },
  "language_info": {
   "codemirror_mode": {
    "name": "ipython",
    "version": 3
   },
   "file_extension": ".py",
   "mimetype": "text/x-python",
   "name": "python",
   "nbconvert_exporter": "python",
   "pygments_lexer": "ipython3",
   "version": "3.10.12"
  },
  "orig_nbformat": 4
 },
 "nbformat": 4,
 "nbformat_minor": 2
}
